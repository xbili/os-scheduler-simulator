{
 "cells": [
  {
   "cell_type": "markdown",
   "metadata": {},
   "source": [
    "# Parameter Optimization"
   ]
  },
  {
   "cell_type": "markdown",
   "metadata": {},
   "source": [
    "We have came up with a basic implementation of the schedulers in Python. Now we want to play around with the time quantum for Round Robin scheduling and $\\alpha$ in Shortest Job First scheduling to obtain the optimal values.\n",
    "\n",
    "We do so by naively running the simulation multiple times and plotting the average waiting time caused by both scheduling algorithm. Then we pick the optimal from there. It is also interesting to note how the performance changes as we vary these parameters."
   ]
  },
  {
   "cell_type": "markdown",
   "metadata": {},
   "source": [
    "## Imports"
   ]
  },
  {
   "cell_type": "code",
   "execution_count": 1,
   "metadata": {},
   "outputs": [],
   "source": [
    "%matplotlib inline\n",
    "\n",
    "import os\n",
    "import sys\n",
    "nb_dir = os.path.split(os.getcwd())[0]\n",
    "if nb_dir not in sys.path:\n",
    "    sys.path.append(nb_dir)\n",
    "    \n",
    "from simulator.schedulers import RoundRobin, SJF\n",
    "from simulator.core.process import Process\n",
    "from copy import deepcopy\n",
    "import matplotlib.pyplot as plt"
   ]
  },
  {
   "cell_type": "markdown",
   "metadata": {},
   "source": [
    "## Helper Functions"
   ]
  },
  {
   "cell_type": "code",
   "execution_count": 2,
   "metadata": {},
   "outputs": [],
   "source": [
    "def read_inputs(filename):\n",
    "    \"\"\"\n",
    "    Reads inputs from a file and converts them into Process objects.\n",
    "    \"\"\"\n",
    "    res = []\n",
    "    with open(filename) as f:\n",
    "        for line in f:\n",
    "            array = line.split()\n",
    "            if len(array) != 3:\n",
    "                print (\"wrong input format\")\n",
    "                exit()\n",
    "            res += [Process(int(array[0]), int(array[1]), int(array[2]))]\n",
    "\n",
    "    return res"
   ]
  },
  {
   "cell_type": "code",
   "execution_count": 3,
   "metadata": {},
   "outputs": [],
   "source": [
    "def run_simulation(scheduler, processes):\n",
    "    \"\"\"Runs a simulation.\n",
    "    \n",
    "    Returns:\n",
    "    - Average wait time at the end of the simulation.\n",
    "    \"\"\"\n",
    "    scheduler.schedule(deepcopy(processes))\n",
    "    avg_waiting_time = scheduler.avg_waiting_time\n",
    "    \n",
    "    return avg_waiting_time"
   ]
  },
  {
   "cell_type": "markdown",
   "metadata": {},
   "source": [
    "## Read Inputs\n",
    "\n",
    "We will use the sample inputs provided by the assignment specification."
   ]
  },
  {
   "cell_type": "code",
   "execution_count": 4,
   "metadata": {},
   "outputs": [
    {
     "name": "stdout",
     "output_type": "stream",
     "text": [
      "Total 16 processes\n"
     ]
    }
   ],
   "source": [
    "processes = read_inputs('../examples/test1.in')\n",
    "print('Total {} processes'.format(len(processes)))"
   ]
  },
  {
   "cell_type": "markdown",
   "metadata": {},
   "source": [
    "Just to provide a brief overview of how long each process takes."
   ]
  },
  {
   "cell_type": "code",
   "execution_count": 5,
   "metadata": {},
   "outputs": [
    {
     "data": {
      "text/plain": [
       "Text(0,0.5,'Burst Time')"
      ]
     },
     "execution_count": 5,
     "metadata": {},
     "output_type": "execute_result"
    },
    {
     "data": {
      "image/png": "[encoded data removed]",
      "text/plain": [
       "<Figure size 432x288 with 1 Axes>"
      ]
     },
     "metadata": {},
     "output_type": "display_data"
    }
   ],
   "source": [
    "plt.bar([proc.burst_time for proc in processes], [proc.id for proc in processes])\n",
    "plt.xlabel('Process ID')\n",
    "plt.ylabel('Burst Time')"
   ]
  },
  {
   "cell_type": "markdown",
   "metadata": {},
   "source": [
    "## Round Robin\n",
    "\n",
    "We first play around with the optimal time quantum for Round Robin scheduling."
   ]
  },
  {
   "cell_type": "code",
   "execution_count": 6,
   "metadata": {},
   "outputs": [
    {
     "data": {
      "text/plain": [
       "[<matplotlib.lines.Line2D at 0x10d84d358>]"
      ]
     },
     "execution_count": 6,
     "metadata": {},
     "output_type": "execute_result"
    },
    {
     "data": {
      "image/png": "[encoded data removed]",
      "text/plain": [
       "<Figure size 432x288 with 1 Axes>"
      ]
     },
     "metadata": {},
     "output_type": "display_data"
    }
   ],
   "source": [
    "x = [i for i in range(1, 40)]\n",
    "y = [run_simulation(RoundRobin(time_quantum=q), processes) for q in x]\n",
    "\n",
    "plt.ylabel('Average Waiting Time')\n",
    "plt.xlabel('Time Quantum')\n",
    "plt.plot(x, y, marker='o')"
   ]
  },
  {
   "cell_type": "markdown",
   "metadata": {},
   "source": [
    "It's interesting to note that at large quantum sizes, RR reduces into a FCFS scheduler."
   ]
  },
  {
   "cell_type": "code",
   "execution_count": 7,
   "metadata": {},
   "outputs": [
    {
     "data": {
      "text/plain": [
       "10"
      ]
     },
     "execution_count": 7,
     "metadata": {},
     "output_type": "execute_result"
    }
   ],
   "source": [
    "min(x, key=lambda v: y[v-1])"
   ]
  },
  {
   "cell_type": "markdown",
   "metadata": {},
   "source": [
    "## Shortest Job First\n",
    "\n",
    "Now we try to find the best alpha value for our Shortest Job First scheduler."
   ]
  },
  {
   "cell_type": "code",
   "execution_count": 8,
   "metadata": {},
   "outputs": [
    {
     "data": {
      "text/plain": [
       "[<matplotlib.lines.Line2D at 0x10d8bab70>]"
      ]
     },
     "execution_count": 8,
     "metadata": {},
     "output_type": "execute_result"
    },
    {
     "data": {
      "image/png": "[encoded data removed]",
      "text/plain": [
       "<Figure size 432x288 with 1 Axes>"
      ]
     },
     "metadata": {},
     "output_type": "display_data"
    }
   ],
   "source": [
    "x = [i/20 for i in range(1, 20)]\n",
    "y = [run_simulation(SJF(alpha=a), processes) for a in x]\n",
    "\n",
    "plt.ylabel('Average Waiting Time')\n",
    "plt.xlabel('Alpha')\n",
    "plt.plot(x, y, marker='o')"
   ]
  },
  {
   "cell_type": "code",
   "execution_count": 9,
   "metadata": {},
   "outputs": [
    {
     "data": {
      "text/plain": [
       "0.5"
      ]
     },
     "execution_count": 9,
     "metadata": {},
     "output_type": "execute_result"
    }
   ],
   "source": [
    "min(x, key=lambda v: y[int(v*20-1)])"
   ]
  }
 ],
 "metadata": {
  "kernelspec": {
   "display_name": "Python 3",
   "language": "python",
   "name": "python3"
  },
  "language_info": {
   "codemirror_mode": {
    "name": "ipython",
    "version": 3
   },
   "file_extension": ".py",
   "mimetype": "text/x-python",
   "name": "python",
   "nbconvert_exporter": "python",
   "pygments_lexer": "ipython3",
   "version": "3.6.2"
  }
 },
 "nbformat": 4,
 "nbformat_minor": 2
}
